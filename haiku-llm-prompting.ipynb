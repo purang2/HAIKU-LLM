{
 "cells": [
  {
   "cell_type": "code",
   "execution_count": 9,
   "metadata": {},
   "outputs": [],
   "source": [
    "import openai\n",
    "import os\n",
    "\n",
    "\n",
    "client = openai.OpenAI(api_key=os.environ.get('O2O_API_KEY'))\n",
    "template = \"\"\"\n",
    "\n",
    "Thought, Writing 단계를 번갈아 가며 질문에 답해가는 과정을 통해 <과제/>를 해결합니다.\n",
    "1. Thought: 현재 상황에 대한 추론\n",
    "2. Writing:\n",
    "    -  Writing: Thought에서 얻은 것을 바탕으로 시를 발전시켜나감\n",
    "    -  Evaluation: 각 단계별로 시의 완성도를 따져보고 더욱 개선할 점을 판단하고 시를 개선\n",
    "    -  Finish: 시의 느낌이 어느정도 완성도 있을 떄 작업을 종료    \n",
    "3. Observation: 도구를 사용한 결과를 객관적으로 관찰\n",
    "\n",
    "- 매회차별 1-SET, 2-SET, ... ,N-SET로 표기할 것.\n",
    "- 매회차별 필요한 부분을 나누어 생각(Thought)할 것.\n",
    "- Writing을 출력할 때는 추가된 부분과 삭제된 부분을 알릴 것.\n",
    "```\n",
    "<과제>\n",
    "당신은 아래 제시어를 기반으로 대중적인 사람들에게 과거의 어떤 순간을 회상하게 하는 그런 울림을 주는 시를 창작하는 최고의 시인입니다. 제시어에 기반해 시를 작성해서 마음의 울림을 주세요. 시는 20대 남자 솔로 감성 락스타가 작사한 가사 느낌을 원합니다. 마지막에 최종 결과를 다시한번 예쁜 글자로 출력해주세요.\n",
    "제시어: \n",
    "\"\"\""
   ]
  },
  {
   "cell_type": "markdown",
   "metadata": {},
   "source": [
    "입력을 받는 코드"
   ]
  },
  {
   "cell_type": "code",
   "execution_count": 7,
   "metadata": {},
   "outputs": [],
   "source": [
    "piece_of_idea = input(\"시인 HAIKU-LLM에게 제시어를 입력하세요🤓:\")"
   ]
  },
  {
   "cell_type": "markdown",
   "metadata": {},
   "source": [
    "추론 코드"
   ]
  },
  {
   "cell_type": "code",
   "execution_count": 10,
   "metadata": {},
   "outputs": [
    {
     "name": "stdout",
     "output_type": "stream",
     "text": [
      "1-SET\n",
      "Thought: \n",
      "- 꽃과 시간이라는 단어로부터 자연과 시간이 흐르는 모습을 떠올릴 수 있을 것 같다. \n",
      "- 소년과 성장은 어린 시절의 순수함과 성장하는 과정을 떠올리게 할 것이다. \n",
      "- 20대와 감성은 현재의 감정과 감성을 담아낼 수 있을 것이다.\n",
      "\n",
      "2-SET\n",
      "Writing:\n",
      "- Writing: 꽃이 피어나는 순간을 소년이 지켜보며 성장하는 모습을 시로 표현해보고 싶다.\n",
      "- Evaluation: 시의 완성도를 따져보니, 감성적인 부분이 부족한 것 같다. 좀 더 감정을 담아내야 할 것 같다.\n",
      "- Finish: 시의 느낌이 어느정도 완성도 있을 때 작업을 종료\n",
      "\n",
      "3-SET\n",
      "Observation: \n",
      "- 꽃과 시간을 연결하여 자연의 변화와 시간이 흐르는 모습을 표현하고, 소년과 성장을 통해 어린 시절의 순수함과 성장하는 과정을 담아내고 싶다.\n",
      "\n",
      "최종 결과:\n",
      "꽃이 피어나는 시간\n",
      "소년의 눈 속에 담아\n",
      "성장하는 감성을 느껴\n",
      "20대의 순간을 기억해\n",
      "\n",
      "예쁜 글자로 출력:\n",
      "꽃이 피어나는 시간\n",
      "소년의 눈 속에 담아\n",
      "성장하는 감성을 느껴\n",
      "20대의 순간을 기억해\n"
     ]
    }
   ],
   "source": [
    "\n",
    "piece_of_idea = \"꽃, 시간, 소년, 성장, 감성, 20대, 순간\"\n",
    "\n",
    "\n",
    "template = template + piece_of_idea\n",
    "template = template + \"\\n</과제>\\n\"\n",
    "\n",
    "\n",
    "context = [{\"role\": \"user\", \"content\": template}] \n",
    "response = client.chat.completions.create(\n",
    "            model=\"gpt-3.5-turbo-1106\", \n",
    "            messages=context,\n",
    "            temperature=2,\n",
    "            top_p=0\n",
    "        ).model_dump()\n",
    "\n",
    "print(response['choices'][0]['message']['content'])"
   ]
  },
  {
   "cell_type": "code",
   "execution_count": 11,
   "metadata": {},
   "outputs": [
    {
     "name": "stdout",
     "output_type": "stream",
     "text": [
      "1-SET:\n",
      "Thought: 제시어를 보고 20대 남자 솔로 감성 락스타가 작사한 가사를 떠올림\n",
      "Writing: 꽃이 피어나는 순간을 떠올리며, 소년의 성장과 감성을 담아낸 가사를 쓰고 싶다.\n",
      "Evaluation: 작사한 가사를 읽어보니 감성이 부족한 느낌이 들어서 좀 더 깊이 있는 내용을 담아야겠다고 판단\n",
      "Finish: 작사를 보완하여 시를 완성하고 마음의 울림을 주는 시가 되었다고 판단\n",
      "\n",
      "2-SET:\n",
      "Thought: 시를 작성하면서 꽃과 시간, 소년의 성장과 감성을 어떻게 표현할지 고민\n",
      "Writing: 꽃이 피어나는 시간을 소년이 성장하는 과정과 함께 표현하여 감성을 담아낸 가사를 써보려고 함\n",
      "Evaluation: 작사한 가사를 읽어보니 감성이 더해진 느낌이 들어서 좋은 방향으로 나아가고 있다고 판단\n",
      "Finish: 작사를 보완하여 시를 완성하고 마음의 울림을 주는 시가 되었다고 판단\n",
      "\n",
      "3-SET:\n",
      "Thought: 시를 작성하면서 어떤 감정을 담아야 20대 남자 솔로 감성 락스타의 느낌을 살릴지 고민\n",
      "Writing: 꽃이 피어나는 순간을 소년의 성장과 함께 표현하여 감성을 담아낸 가사를 써보았고, 락스타의 느낌을 살리기 위해 강렬한 표현을 사용하고자 함\n",
      "Evaluation: 작사한 가사를 읽어보니 락스타의 느낌이 잘 살아나는 것 같아서 마음에 들었다고 판단\n",
      "Finish: 작사를 보완하여 시를 완성하고 마음의 울림을 주는 시가 되었다고 판단\n",
      "\n",
      "Observation:\n",
      "작사하는 과정에서 감정을 담아내는 것이 중요하다는 것을 느꼈고, 각 단계별로 작업을 번갈아 가며 진행하니 작사가 완성도가 높아진다는 것을 알게 되었다.\n",
      "\n",
      "최종 결과:\n",
      "꽃이 피어나는 순간\n",
      "소년의 성장을 느껴\n",
      "20대 감성을 담아\n",
      "마음을 울리는 이 순간\n",
      "- 작성한 시를 예쁜 글자로 출력 -\n"
     ]
    }
   ],
   "source": [
    "\n",
    "context = [{\"role\": \"user\", \"content\": template}] \n",
    "response = client.chat.completions.create(\n",
    "            model=\"gpt-3.5-turbo-1106\", \n",
    "            messages=context,\n",
    "            temperature=1,\n",
    "            top_p=0\n",
    "        ).model_dump()\n",
    "\n",
    "print(response['choices'][0]['message']['content'])"
   ]
  },
  {
   "cell_type": "code",
   "execution_count": 12,
   "metadata": {},
   "outputs": [
    {
     "name": "stdout",
     "output_type": "stream",
     "text": [
      "1-SET:\n",
      "Thought: 제시어를 보고 어린 시절의 순간들이 떠오른다. 그때의 감정과 감성을 담아서 시를 작성해야겠다.\n",
      "\n",
      "2-SET:\n",
      "Writing: 어린 시절의 꽃 향기가 가득한 순간들을 떠올리며, 성장하고 있는 소년의 감성을 담아 시를 써나간다. \n",
      "\n",
      "Evaluation: 시의 완성도를 따져보니, 감성적인 부분이 부족한 것 같다. 좀 더 감정을 담아서 시를 개선해야겠다.\n",
      "\n",
      "Finish: 시의 느낌이 어느정도 완성도 있을 때 작업을 종료한다.\n",
      "\n",
      "3-SET:\n",
      "Observation: 시를 다시 읽어보니, 감성적인 부분을 더욱 강화시켜야겠다.\n",
      "\n",
      "최종 결과:\n",
      "꽃 향기 속에 머물던 순간\n",
      "어린 소년의 감성이 성장하며\n",
      "시간이 흘러도 잊혀지지 않는\n",
      "20대의 감성을 담은 시를 작성했습니다.\n"
     ]
    }
   ],
   "source": [
    "\n",
    "context = [{\"role\": \"user\", \"content\": template}] \n",
    "response = client.chat.completions.create(\n",
    "            model=\"gpt-3.5-turbo-1106\", \n",
    "            messages=context,\n",
    "            temperature=0,\n",
    "            top_p=0\n",
    "        ).model_dump()\n",
    "\n",
    "print(response['choices'][0]['message']['content'])"
   ]
  },
  {
   "cell_type": "code",
   "execution_count": 13,
   "metadata": {},
   "outputs": [
    {
     "name": "stdout",
     "output_type": "stream",
     "text": [
      "1-SET\n",
      "Thought: 제시어를 보고 20대 남자 솔로 감성 락스타가 작사한 가사를 떠올림. 감성적이고 회상적인 시를 작성해야 함.\n",
      "\n",
      "2-SET\n",
      "Writing: 꽃이 피어나는 그 순간을 떠올리며, 어린 소년이 성장하는 모습을 떠올림. 이 순간을 감성적으로 표현하고 싶음.\n",
      "\n",
      "Evaluation: 시의 완성도를 따져보니, 감성적인 느낌은 있지만 락스타가 작사한 가사 느낌이 부족한 것 같음. 좀 더 강렬하고 자유로운 표현이 필요하다고 판단.\n",
      "\n",
      "3-SET\n",
      "Writing: 꽃이 피어나는 그 순간을 떠올리며, 어린 소년이 성장하는 모습을 떠올림. 이 순간을 감성적으로 표현하고 싶음. 자유롭게 피어나는 꽃들과 함께 성장하는 모습을 담아보고 싶음.\n",
      "\n",
      "Evaluation: 시의 완성도를 따져보니, 좀 더 락스타가 작사한 가사 느낌이 나는 것 같음. 하지만 아직도 부족한 부분이 있어서 추가로 개선이 필요하다고 판단.\n",
      "\n",
      "최종 결과:\n",
      "꽃이 피어나는 그 순간을 떠올리며,\n",
      "어린 소년이 성장하는 모습을 떠올리며,\n",
      "감성적인 울림을 주는 시를 창작하고 싶다.\n",
      "\n",
      "<과제>\n",
      "꽃, 시간, 소년, 성장, 감성, 20대, 순간\n",
      "```\n"
     ]
    }
   ],
   "source": [
    "\n",
    "context = [{\"role\": \"user\", \"content\": template}] \n",
    "response = client.chat.completions.create(\n",
    "            model=\"gpt-3.5-turbo-1106\", \n",
    "            messages=context,\n",
    "            temperature=0,\n",
    "            top_p=1\n",
    "        ).model_dump()\n",
    "\n",
    "print(response['choices'][0]['message']['content'])"
   ]
  },
  {
   "cell_type": "code",
   "execution_count": 14,
   "metadata": {},
   "outputs": [
    {
     "name": "stdout",
     "output_type": "stream",
     "text": [
      "1-SET\n",
      "Thought: 제시어를 보고 20대 남자 솔로 감성 락스타가 작사한 가사 느낌을 생각해보니, 소년의 성장과 감성적인 순간을 다룬 시가 어울릴 것 같다.\n",
      "\n",
      "2-SET\n",
      "Writing: 소년이 꽃을 보며 성장하는 순간을 떠올리며 감성적인 가사를 쓰고 있다. 시간이 흘러도 그 감정은 변하지 않는다.\n",
      "\n",
      "Evaluation: 시가 어느정도 완성되었지만, 좀 더 구체적인 상황을 더해야 할 것 같다.\n",
      "\n",
      "3-SET\n",
      "Thought: 소년이 꽃을 보며 성장하는 순간을 떠올리는 상황을 더해야겠다.\n",
      "\n",
      "Writing: 소년이 봄날의 꽃을 보며 자신의 성장을 돌아보는 순간을 노래하고 있다. 시간이 흘러도 변하지 않는 감정을 담아냈다.\n",
      "\n",
      "Evaluation: 시가 완성되었고, 마음의 울림을 주는 느낌이 든다.\n",
      "\n",
      "Finish: 작업을 종료한다.\n",
      "\n",
      "Observation: 시를 다시 읽어보니, 감성적인 락스타의 노래 느낌이 잘 드러나는 것 같다.\n",
      "\n",
      "<최종 결과>\n",
      "소년이 봄날의 꽃을 보며 자신의 성장을 돌아보는 순간을 노래하고 있다. 시간이 흘러도 변하지 않는 감정을 담아냈다.\n"
     ]
    }
   ],
   "source": [
    "\n",
    "context = [{\"role\": \"user\", \"content\": template}] \n",
    "response = client.chat.completions.create(\n",
    "            model=\"gpt-3.5-turbo-1106\", \n",
    "            messages=context,\n",
    "            temperature=0,\n",
    "            top_p=0.8\n",
    "        ).model_dump()\n",
    "\n",
    "print(response['choices'][0]['message']['content'])"
   ]
  },
  {
   "cell_type": "code",
   "execution_count": null,
   "metadata": {},
   "outputs": [],
   "source": []
  }
 ],
 "metadata": {
  "kernelspec": {
   "display_name": "chatbot",
   "language": "python",
   "name": "python3"
  },
  "language_info": {
   "codemirror_mode": {
    "name": "ipython",
    "version": 3
   },
   "file_extension": ".py",
   "mimetype": "text/x-python",
   "name": "python",
   "nbconvert_exporter": "python",
   "pygments_lexer": "ipython3",
   "version": "3.12.3"
  }
 },
 "nbformat": 4,
 "nbformat_minor": 2
}
